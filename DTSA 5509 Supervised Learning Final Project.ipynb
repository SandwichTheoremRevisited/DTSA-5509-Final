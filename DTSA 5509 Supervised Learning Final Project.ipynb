{
 "cells": [
  {
   "cell_type": "markdown",
   "id": "f4899a0f",
   "metadata": {},
   "source": [
    "# DTSA 5509 Final Project - Used Car Prices"
   ]
  },
  {
   "cell_type": "markdown",
   "id": "37c42e63",
   "metadata": {},
   "source": [
    "## Introduction and data"
   ]
  },
  {
   "cell_type": "markdown",
   "id": "67c1720c",
   "metadata": {},
   "source": [
    "For this project, the problem in question is related to the price of used cars which were sold in the United States. The dataset was obtained from Kaggle and can be found here: https://www.kaggle.com/datasets/harikrishnareddyb/used-car-price-predictions?resource=download\n",
    "\n",
    "The data includes 7 features and one target variable. The description of the features can be found on the Kaggle page and is as follows:\n",
    "\n",
    "**Year** - Numerical, year the car was made\n",
    "\n",
    "**Mileage** - Numerical, the number of kilometers driven by the car\n",
    "\n",
    "**City** - Location/categorical, city in which the car was sold\n",
    "\n",
    "**State** - Location/categorical, state in which the car was sold\n",
    "\n",
    "**Vin** - Textual/categorical, Vehicle Identification Number, a unique identifier for the car\n",
    "\n",
    "**Make** - Textual/categorical, the manufacturer/brand of the car\n",
    "\n",
    "**Model** - Textual/categorical, the model(name) of the car\n",
    "\n",
    "The target variable is the price at which the used car was sold. The task is to perform EDA on the set and train a simple regression model, a multiple linear regression model, and potentially other types of models on the dataset in order to predict price from the 7 other features. Ultimately, the goal is to understand which factors determine the price of a used car and to what extent."
   ]
  },
  {
   "cell_type": "markdown",
   "id": "064378af",
   "metadata": {},
   "source": [
    "## Data cleaning and EDA"
   ]
  },
  {
   "cell_type": "code",
   "execution_count": 1,
   "id": "c21535e5",
   "metadata": {},
   "outputs": [
    {
     "name": "stdout",
     "output_type": "stream",
     "text": [
      "<class 'pandas.core.frame.DataFrame'>\n",
      "RangeIndex: 852122 entries, 0 to 852121\n",
      "Data columns (total 8 columns):\n",
      " #   Column   Non-Null Count   Dtype \n",
      "---  ------   --------------   ----- \n",
      " 0   Price    852122 non-null  int64 \n",
      " 1   Year     852122 non-null  int64 \n",
      " 2   Mileage  852122 non-null  int64 \n",
      " 3   City     852122 non-null  object\n",
      " 4   State    852122 non-null  object\n",
      " 5   Vin      852122 non-null  object\n",
      " 6   Make     852122 non-null  object\n",
      " 7   Model    852122 non-null  object\n",
      "dtypes: int64(3), object(5)\n",
      "memory usage: 52.0+ MB\n",
      "None\n"
     ]
    },
    {
     "data": {
      "text/html": [
       "<div>\n",
       "<style scoped>\n",
       "    .dataframe tbody tr th:only-of-type {\n",
       "        vertical-align: middle;\n",
       "    }\n",
       "\n",
       "    .dataframe tbody tr th {\n",
       "        vertical-align: top;\n",
       "    }\n",
       "\n",
       "    .dataframe thead th {\n",
       "        text-align: right;\n",
       "    }\n",
       "</style>\n",
       "<table border=\"1\" class=\"dataframe\">\n",
       "  <thead>\n",
       "    <tr style=\"text-align: right;\">\n",
       "      <th></th>\n",
       "      <th>Price</th>\n",
       "      <th>Year</th>\n",
       "      <th>Mileage</th>\n",
       "    </tr>\n",
       "  </thead>\n",
       "  <tbody>\n",
       "    <tr>\n",
       "      <th>count</th>\n",
       "      <td>852122.000000</td>\n",
       "      <td>852122.000000</td>\n",
       "      <td>8.521220e+05</td>\n",
       "    </tr>\n",
       "    <tr>\n",
       "      <th>mean</th>\n",
       "      <td>21464.100210</td>\n",
       "      <td>2013.289145</td>\n",
       "      <td>5.250779e+04</td>\n",
       "    </tr>\n",
       "    <tr>\n",
       "      <th>std</th>\n",
       "      <td>13596.202241</td>\n",
       "      <td>3.414987</td>\n",
       "      <td>4.198896e+04</td>\n",
       "    </tr>\n",
       "    <tr>\n",
       "      <th>min</th>\n",
       "      <td>1500.000000</td>\n",
       "      <td>1997.000000</td>\n",
       "      <td>5.000000e+00</td>\n",
       "    </tr>\n",
       "    <tr>\n",
       "      <th>25%</th>\n",
       "      <td>13000.000000</td>\n",
       "      <td>2012.000000</td>\n",
       "      <td>2.383600e+04</td>\n",
       "    </tr>\n",
       "    <tr>\n",
       "      <th>50%</th>\n",
       "      <td>18500.000000</td>\n",
       "      <td>2014.000000</td>\n",
       "      <td>4.025600e+04</td>\n",
       "    </tr>\n",
       "    <tr>\n",
       "      <th>75%</th>\n",
       "      <td>26995.000000</td>\n",
       "      <td>2016.000000</td>\n",
       "      <td>7.218600e+04</td>\n",
       "    </tr>\n",
       "    <tr>\n",
       "      <th>max</th>\n",
       "      <td>499500.000000</td>\n",
       "      <td>2018.000000</td>\n",
       "      <td>2.856196e+06</td>\n",
       "    </tr>\n",
       "  </tbody>\n",
       "</table>\n",
       "</div>"
      ],
      "text/plain": [
       "               Price           Year       Mileage\n",
       "count  852122.000000  852122.000000  8.521220e+05\n",
       "mean    21464.100210    2013.289145  5.250779e+04\n",
       "std     13596.202241       3.414987  4.198896e+04\n",
       "min      1500.000000    1997.000000  5.000000e+00\n",
       "25%     13000.000000    2012.000000  2.383600e+04\n",
       "50%     18500.000000    2014.000000  4.025600e+04\n",
       "75%     26995.000000    2016.000000  7.218600e+04\n",
       "max    499500.000000    2018.000000  2.856196e+06"
      ]
     },
     "execution_count": 1,
     "metadata": {},
     "output_type": "execute_result"
    }
   ],
   "source": [
    "import pandas as pd\n",
    "import matplotlib.pyplot as plt\n",
    "import numpy as np\n",
    "import math\n",
    "\n",
    "df = pd.read_csv(\"data/true_car_listings.csv\", skipinitialspace=True)\n",
    "\n",
    "print(df.info())\n",
    "df.head()\n",
    "df.describe()"
   ]
  },
  {
   "cell_type": "markdown",
   "id": "c369197d",
   "metadata": {},
   "source": [
    "The code above imports the dataset so that cleaning and EDA can begin. There are 852,122 entries for every feature in the dataset."
   ]
  },
  {
   "cell_type": "markdown",
   "id": "50fb2a5a",
   "metadata": {},
   "source": [
    "The dataset does not appear to have any missing values. However, it is worth noting that out of 852,122 entries, there are 852,075 unique values for the VIN. The VIN is supposed to be unique for every car, so this indicates that there are either mistakes with the VIN, duplicate entries, or some cars were simply sold multiple times and data was collected on each instance. After looking at some of the entries with duplicate VINs, it seems that all of these things may be the case for different entries. Since it would be difficult and time-consuming to try to make a decision for each individual row, and there are relatively few duplicates, I have chosen to simply remove all rows with duplicate VINs.\n",
    "\n",
    "Furthermore, there are 59 unique values for state. Upon closer inspection this turns out to be because sometimes state is listed as two capital letters and sometimes as a capital and a lowercase letter; e.g. Virginia is recorded as both 'VA' and 'Va'. I have corrected this as well.\n",
    "\n",
    "Another thing that jumps out is the presence of extreme outliers in mileage. These values seem very unlikely and are probably a result of error. I have imputed them using the mean mileage."
   ]
  },
  {
   "cell_type": "code",
   "execution_count": 2,
   "id": "952487f4",
   "metadata": {},
   "outputs": [],
   "source": [
    "#Remove mileage outliers\n",
    "df.loc[df['Mileage'] >= (52508 + 3*41989), 'Mileage'] = 40256"
   ]
  },
  {
   "cell_type": "code",
   "execution_count": 3,
   "id": "1607413b",
   "metadata": {},
   "outputs": [
    {
     "name": "stdout",
     "output_type": "stream",
     "text": [
      "Price 0\n",
      "Year 0\n",
      "Mileage 0\n",
      "City 0\n",
      "State 0\n",
      "Vin 0\n",
      "Make 0\n",
      "Model 0\n",
      "        Price  Year  Mileage    City State                Vin       Make  \\\n",
      "84302    8599  2012    48618  Morrow    GA  1G1ZB5E09CF258888  Chevrolet   \n",
      "186430  99999  2012    48618  Morrow    GA  1G1ZB5E09CF258888  Chevrolet   \n",
      "\n",
      "           Model  \n",
      "84302   MalibuLS  \n",
      "186430  MalibuLS  \n",
      "        Price  Year  Mileage   City State                Vin       Make  \\\n",
      "84753    4289  2016    34449  Blair    NE  1GNSCBKC1GR183490  Chevrolet   \n",
      "174640  42890  2016    34449  Blair    NE  1GNSCBKC1GR183490  Chevrolet   \n",
      "\n",
      "           Model  \n",
      "84753   Tahoe2WD  \n",
      "174640  Tahoe2WD  \n",
      "        Price  Year  Mileage     City State                Vin       Make  \\\n",
      "93226   11781  2015    40533  Seattle    WA  1G1PC5SB7F7269381  Chevrolet   \n",
      "131998  16900  2015    40533  Seattle    WA  1G1PC5SB7F7269381  Chevrolet   \n",
      "\n",
      "           Model  \n",
      "93226   Cruze1LT  \n",
      "131998  Cruze1LT  \n",
      "        Price  Year  Mileage          City State                Vin  \\\n",
      "107069   1718  2017    45556  Temple Hills    MD  1G1BE5SM6H7103748   \n",
      "133550  14224  2017    45556  Temple Hills    MD  1G1BE5SM6H7103748   \n",
      "\n",
      "             Make       Model  \n",
      "107069  Chevrolet  CruzeSedan  \n",
      "133550  Chevrolet  CruzeSedan  \n",
      "        Price  Year  Mileage         City State                Vin       Make  \\\n",
      "115222  14500  2010     1500  Albuquerque    NM  2G1FE1EVXA9224849  Chevrolet   \n",
      "124033  14500  2010    66374  Albuquerque    NM  2G1FE1EVXA9224849  Chevrolet   \n",
      "\n",
      "            Model  \n",
      "115222  Camaro2dr  \n",
      "124033  Camaro2dr  \n",
      "        Price  Year  Mileage    City State                Vin       Make  \\\n",
      "115885  11000  2016     9315  Irving    TX  KL8CB6SAXGC571402  Chevrolet   \n",
      "134567  12488  2016     9315  Irving    TX  KL8CB6SAXGC571402  Chevrolet   \n",
      "\n",
      "          Model  \n",
      "115885  SparkLS  \n",
      "134567  SparkLS  \n",
      "        Price  Year  Mileage      City State                Vin       Make  \\\n",
      "116783  13500  2010    10500  El Cajon    CA  2G1FB1EV2A9127699  Chevrolet   \n",
      "129052  12500  2010   105000  El Cajon    CA  2G1FB1EV2A9127699  Chevrolet   \n",
      "\n",
      "            Model  \n",
      "116783  Camaro2dr  \n",
      "129052  Camaro2dr  \n",
      "        Price  Year  Mileage        City State                Vin       Make  \\\n",
      "117547  16197  2014    16364  Round Rock    TX  2G11Y5SL4E9113294  Chevrolet   \n",
      "141563  19197  2014    16364  Round Rock    TX  2G11Y5SL4E9113294  Chevrolet   \n",
      "\n",
      "           Model  \n",
      "117547  ImpalaLS  \n",
      "141563  ImpalaLS  \n",
      "        Price  Year  Mileage     City State                Vin       Make  \\\n",
      "118276   9991  2011    89353  Olympia    WA  1GCNCPEA4BZ433469  Chevrolet   \n",
      "122937  12991  2011    89353  Olympia    WA  1GCNCPEA4BZ433469  Chevrolet   \n",
      "\n",
      "            Model  \n",
      "118276  Silverado  \n",
      "122937  Silverado  \n",
      "        Price  Year  Mileage      City State                Vin       Make  \\\n",
      "118377  19491  2015     6712  Columbus    GA  2G1FB1E32F9136442  Chevrolet   \n",
      "124799  21995  2015     6712  Beaumont    TX  2G1FB1E32F9136442  Chevrolet   \n",
      "\n",
      "              Model  \n",
      "118377  CamaroCoupe  \n",
      "124799  CamaroCoupe  \n",
      "['TX' 'NY' 'CO' 'UT' 'FL' 'CT' 'ID' 'ND' 'CA' 'NJ' 'OH' 'VA' 'IN' 'AZ'\n",
      " 'OR' 'KS' 'NE' 'MA' 'MD' 'GA' 'MN' 'HI' 'LA' 'NM' 'IL' 'AL' 'PA' 'SC'\n",
      " 'NC' 'WA' 'WI' 'OK' 'KY' 'MS' 'MO' 'ME' 'AR' 'MI' 'NV' 'TN' 'Fl' 'NH'\n",
      " 'DE' 'WV' 'Az' 'VT' 'SD' 'IA' 'RI' 'ga' 'Oh' 'MT' 'DC' 'AK' 'Va' 'WY'\n",
      " 'Md' 'Ca' 'Ga']\n"
     ]
    }
   ],
   "source": [
    "for c in df.columns:\n",
    "    print(c, df[c].isnull().sum())\n",
    "\n",
    "df.nunique()\n",
    "\n",
    "# Determines which values in vin are duplicates for closer inspection\n",
    "duplicates=df.duplicated(subset=['Vin'], keep=False)\n",
    "dup_ind = np.where(duplicates)[0]\n",
    "\n",
    "\n",
    "for i in range(10):\n",
    "    val = df['Vin'].iloc[dup_ind[i]]\n",
    "    print(df.loc[df['Vin'] == val])\n",
    "\n",
    "#Look at unique values for state\n",
    "print(df['State'].unique())"
   ]
  },
  {
   "cell_type": "markdown",
   "id": "edbce749",
   "metadata": {},
   "source": []
  },
  {
   "cell_type": "code",
   "execution_count": 4,
   "id": "d2b5e1fc",
   "metadata": {},
   "outputs": [
    {
     "name": "stdout",
     "output_type": "stream",
     "text": [
      "Empty DataFrame\n",
      "Columns: [Price, Year, Mileage, City, State, Vin, Make, Model]\n",
      "Index: []\n",
      "Empty DataFrame\n",
      "Columns: [Price, Year, Mileage, City, State, Vin, Make, Model]\n",
      "Index: []\n",
      "Empty DataFrame\n",
      "Columns: [Price, Year, Mileage, City, State, Vin, Make, Model]\n",
      "Index: []\n"
     ]
    }
   ],
   "source": [
    "#check for nonpositive values\n",
    "print(df[df['Price'] <= 0])\n",
    "print(df[df['Year'] <= 0])\n",
    "print(df[df['Mileage'] <= 0])"
   ]
  },
  {
   "cell_type": "code",
   "execution_count": 5,
   "id": "f0d1b585",
   "metadata": {},
   "outputs": [
    {
     "name": "stdout",
     "output_type": "stream",
     "text": [
      "<class 'pandas.core.frame.DataFrame'>\n",
      "Int64Index: 850507 entries, 0 to 852121\n",
      "Data columns (total 8 columns):\n",
      " #   Column   Non-Null Count   Dtype \n",
      "---  ------   --------------   ----- \n",
      " 0   Price    850507 non-null  object\n",
      " 1   Year     850507 non-null  object\n",
      " 2   Mileage  850507 non-null  object\n",
      " 3   City     850507 non-null  object\n",
      " 4   State    850507 non-null  object\n",
      " 5   Vin      850507 non-null  object\n",
      " 6   Make     850507 non-null  object\n",
      " 7   Model    850507 non-null  object\n",
      "dtypes: object(8)\n",
      "memory usage: 58.4+ MB\n",
      "['TX' 'NY' 'CO' 'UT' 'FL' 'CT' 'ID' 'ND' 'CA' 'NJ' 'OH' 'VA' 'IN' 'AZ'\n",
      " 'OR' 'KS' 'NE' 'MA' 'MD' 'GA' 'MN' 'HI' 'LA' 'NM' 'IL' 'AL' 'PA' 'SC'\n",
      " 'NC' 'WA' 'WI' 'OK' 'KY' 'MS' 'MO' 'ME' 'AR' 'MI' 'NV' 'TN' 'NH' 'DE'\n",
      " 'WV' 'VT' 'SD' 'IA' 'RI' 'MT' 'DC' 'AK' 'WY']\n"
     ]
    }
   ],
   "source": [
    "#clean data and check to make sure there are no more duplicate VINs, and all states are standardized\n",
    "df.loc[df['State'] == 'ga'] = 'GA'\n",
    "df.loc[df['State'] == 'Ga'] = 'GA'\n",
    "df.loc[df['State'] == 'Ca'] = 'CA'\n",
    "df.loc[df['State'] == 'Md'] = 'MD'\n",
    "df.loc[df['State'] == 'Va'] = 'VA'\n",
    "df.loc[df['State'] == 'Oh'] = 'OH'\n",
    "df.loc[df['State'] == 'Az'] = 'AZ'\n",
    "df.loc[df['State'] == 'Fl'] = 'FL'\n",
    "    \n",
    "df = df.drop_duplicates(subset=['Vin'], keep=False)\n",
    "        \n",
    "df.info()\n",
    "df.nunique()\n",
    "print(df['State'].unique())"
   ]
  },
  {
   "cell_type": "code",
   "execution_count": 6,
   "id": "0d4f8631",
   "metadata": {},
   "outputs": [
    {
     "name": "stdout",
     "output_type": "stream",
     "text": [
      "<class 'pandas.core.frame.DataFrame'>\n",
      "Int64Index: 850507 entries, 0 to 852121\n",
      "Data columns (total 8 columns):\n",
      " #   Column   Non-Null Count   Dtype   \n",
      "---  ------   --------------   -----   \n",
      " 0   Price    850507 non-null  int64   \n",
      " 1   Year     850507 non-null  int64   \n",
      " 2   Mileage  850507 non-null  int64   \n",
      " 3   City     850507 non-null  category\n",
      " 4   State    850507 non-null  category\n",
      " 5   Vin      850507 non-null  category\n",
      " 6   Make     850507 non-null  category\n",
      " 7   Model    850507 non-null  category\n",
      "dtypes: category(5), int64(3)\n",
      "memory usage: 73.0 MB\n"
     ]
    }
   ],
   "source": [
    "df['Price'] = df['Price'].astype('int64')\n",
    "df['Year'] = df['Year'].astype('int64')\n",
    "df['Mileage'] = df['Mileage'].astype('int64')\n",
    "df['City'] = df['City'].astype('category')\n",
    "df['State'] = df['State'].astype('category')\n",
    "df['Vin'] = df['Vin'].astype('category')\n",
    "df['Make'] = df['Make'].astype('category')\n",
    "df['Model'] = df['Model'].astype('category')\n",
    "\n",
    "df.info()"
   ]
  },
  {
   "cell_type": "markdown",
   "id": "cd39bcda",
   "metadata": {},
   "source": [
    "Price, year, and mileage can remain integers, but I transformed the other feature into categorical variables so they can be used for multiple linear regression.\n",
    "\n",
    "Below there are visualizations of the features in the dataset. The categorical features are not included because they can take on many levels and a visualization would not be feasible."
   ]
  },
  {
   "cell_type": "code",
   "execution_count": 7,
   "id": "c3201246",
   "metadata": {},
   "outputs": [
    {
     "data": {
      "text/plain": [
       "Text(0.5, 1.0, 'Histogram of year')"
      ]
     },
     "execution_count": 7,
     "metadata": {},
     "output_type": "execute_result"
    },
    {
     "data": {
      "image/png": "[encoded data removed]",
      "text/plain": [
       "<Figure size 432x288 with 1 Axes>"
      ]
     },
     "metadata": {
      "needs_background": "light"
     },
     "output_type": "display_data"
    }
   ],
   "source": [
    "plt.hist(df['Year'])\n",
    "plt.title(\"Histogram of year\")\n",
    "#histogram of year"
   ]
  },
  {
   "cell_type": "code",
   "execution_count": 8,
   "id": "dac04d1a",
   "metadata": {},
   "outputs": [
    {
     "data": {
      "text/plain": [
       "Text(0.5, 1.0, 'Boxplot of price (in $)')"
      ]
     },
     "execution_count": 8,
     "metadata": {},
     "output_type": "execute_result"
    },
    {
     "data": {
      "image/png": "[encoded data removed]",
      "text/plain": [
       "<Figure size 432x288 with 1 Axes>"
      ]
     },
     "metadata": {
      "needs_background": "light"
     },
     "output_type": "display_data"
    }
   ],
   "source": [
    "plt.boxplot(df['Price'])\n",
    "plt.title(\"Boxplot of price (in $)\")\n",
    "#boxplot of price"
   ]
  },
  {
   "cell_type": "markdown",
   "id": "f4cf2d62",
   "metadata": {},
   "source": [
    "The boxplot has many high price values, and is difficult to read. Here it is with the more extreme values removed:"
   ]
  },
  {
   "cell_type": "code",
   "execution_count": 9,
   "id": "8cb715ca",
   "metadata": {},
   "outputs": [
    {
     "data": {
      "text/plain": [
       "Text(0.5, 1.0, 'Boxplot of price (in $), outliers removed')"
      ]
     },
     "execution_count": 9,
     "metadata": {},
     "output_type": "execute_result"
    },
    {
     "data": {
      "image/png": "[encoded data removed]",
      "text/plain": [
       "<Figure size 432x288 with 1 Axes>"
      ]
     },
     "metadata": {
      "needs_background": "light"
     },
     "output_type": "display_data"
    }
   ],
   "source": [
    "plt.boxplot(df['Price'], showfliers=False)\n",
    "plt.title(\"Boxplot of price (in $), outliers removed\")\n",
    "#boxplot of price w/o outliers"
   ]
  },
  {
   "cell_type": "code",
   "execution_count": 10,
   "id": "c787cd41",
   "metadata": {},
   "outputs": [
    {
     "data": {
      "text/plain": [
       "Text(0.5, 1.0, 'Boxplot of mileage (in kms driven)')"
      ]
     },
     "execution_count": 10,
     "metadata": {},
     "output_type": "execute_result"
    },
    {
     "data": {
      "image/png": "[encoded data removed]",
      "text/plain": [
       "<Figure size 432x288 with 1 Axes>"
      ]
     },
     "metadata": {
      "needs_background": "light"
     },
     "output_type": "display_data"
    }
   ],
   "source": [
    "plt.boxplot(df['Mileage'])\n",
    "plt.title(\"Boxplot of mileage (in kms driven)\")\n",
    "#boxplot of mileage"
   ]
  },
  {
   "cell_type": "markdown",
   "id": "01ee1786",
   "metadata": {},
   "source": [
    "Below is a heatmap showing the correlation of the continous numerical features:"
   ]
  },
  {
   "cell_type": "code",
   "execution_count": 11,
   "id": "07d474d6",
   "metadata": {},
   "outputs": [
    {
     "data": {
      "text/plain": [
       "<AxesSubplot:>"
      ]
     },
     "execution_count": 11,
     "metadata": {},
     "output_type": "execute_result"
    },
    {
     "data": {
      "image/png": "[encoded data removed]",
      "text/plain": [
       "<Figure size 1080x1080 with 2 Axes>"
      ]
     },
     "metadata": {
      "needs_background": "light"
     },
     "output_type": "display_data"
    }
   ],
   "source": [
    "import seaborn as sea\n",
    "plt.figure(figsize=(15,15))\n",
    "sea.heatmap(df.corr(), linewidths=0.3, vmin=0, vmax=1, cmap=\"viridis\")"
   ]
  },
  {
   "cell_type": "markdown",
   "id": "e2f82de7",
   "metadata": {},
   "source": [
    "The correlation matrix does not show signs of a high level of correlation between any of these features, although there is some correlation between year and mileage. Based on this and preconceived biases, I expect year will be the most significant feature in the resulting model. I also suspect that VIN will play little to no role since it is essentially a randomly assigned value."
   ]
  },
  {
   "cell_type": "markdown",
   "id": "a942ec76",
   "metadata": {},
   "source": [
    "## Model training"
   ]
  },
  {
   "cell_type": "code",
   "execution_count": 12,
   "id": "8b14b4bd",
   "metadata": {},
   "outputs": [
    {
     "name": "stdout",
     "output_type": "stream",
     "text": [
      "                            OLS Regression Results                            \n",
      "==============================================================================\n",
      "Dep. Variable:                  Price   R-squared:                       0.160\n",
      "Model:                            OLS   Adj. R-squared:                  0.160\n",
      "Method:                 Least Squares   F-statistic:                 1.298e+05\n",
      "Date:                Mon, 25 Apr 2022   Prob (F-statistic):               0.00\n",
      "Time:                        10:53:05   Log-Likelihood:            -7.3826e+06\n",
      "No. Observations:              680405   AIC:                         1.477e+07\n",
      "Df Residuals:                  680403   BIC:                         1.477e+07\n",
      "Df Model:                           1                                         \n",
      "Covariance Type:            nonrobust                                         \n",
      "==============================================================================\n",
      "                 coef    std err          t      P>|t|      [0.025      0.975]\n",
      "------------------------------------------------------------------------------\n",
      "Intercept   -3.19e+06   8912.760   -357.937      0.000   -3.21e+06   -3.17e+06\n",
      "Year        1595.2307      4.427    360.345      0.000    1586.554    1603.907\n",
      "==============================================================================\n",
      "Omnibus:                   865285.716   Durbin-Watson:                   1.997\n",
      "Prob(Omnibus):                  0.000   Jarque-Bera (JB):        437561717.952\n",
      "Skew:                           6.636   Prob(JB):                         0.00\n",
      "Kurtosis:                     126.523   Cond. No.                     1.19e+06\n",
      "==============================================================================\n",
      "\n",
      "Notes:\n",
      "[1] Standard Errors assume that the covariance matrix of the errors is correctly specified.\n",
      "[2] The condition number is large, 1.19e+06. This might indicate that there are\n",
      "strong multicollinearity or other numerical problems.\n",
      "\n",
      "Mean squared error is 153899206.322254 \n",
      "\n",
      "                            OLS Regression Results                            \n",
      "==============================================================================\n",
      "Dep. Variable:                  Price   R-squared:                       0.177\n",
      "Model:                            OLS   Adj. R-squared:                  0.177\n",
      "Method:                 Least Squares   F-statistic:                 1.468e+05\n",
      "Date:                Mon, 25 Apr 2022   Prob (F-statistic):               0.00\n",
      "Time:                        10:53:05   Log-Likelihood:            -7.3755e+06\n",
      "No. Observations:              680405   AIC:                         1.475e+07\n",
      "Df Residuals:                  680403   BIC:                         1.475e+07\n",
      "Df Model:                           1                                         \n",
      "Covariance Type:            nonrobust                                         \n",
      "==============================================================================\n",
      "                 coef    std err          t      P>|t|      [0.025      0.975]\n",
      "------------------------------------------------------------------------------\n",
      "Intercept   2.932e+04     25.392   1154.564      0.000    2.93e+04    2.94e+04\n",
      "Mileage       -0.1564      0.000   -383.189      0.000      -0.157      -0.156\n",
      "==============================================================================\n",
      "Omnibus:                   842953.709   Durbin-Watson:                   2.000\n",
      "Prob(Omnibus):                  0.000   Jarque-Bera (JB):        402664005.191\n",
      "Skew:                           6.321   Prob(JB):                         0.00\n",
      "Kurtosis:                     121.505   Cond. No.                     1.06e+05\n",
      "==============================================================================\n",
      "\n",
      "Notes:\n",
      "[1] Standard Errors assume that the covariance matrix of the errors is correctly specified.\n",
      "[2] The condition number is large, 1.06e+05. This might indicate that there are\n",
      "strong multicollinearity or other numerical problems.\n",
      "\n",
      "Mean squared error is 150865587.194776 \n",
      "\n"
     ]
    }
   ],
   "source": [
    "from sklearn.model_selection import train_test_split\n",
    "from sklearn.metrics import mean_squared_error\n",
    "from statsmodels.formula.api import ols\n",
    "\n",
    "x_train, x_test = train_test_split(df, test_size=0.2, random_state=0)\n",
    "\n",
    "model = ols('Price ~ Year',x_train)\n",
    "result = model.fit()\n",
    "print(result.summary())\n",
    "print(\"\\nMean squared error is %f \\n\" %mean_squared_error(x_test['Price'], result.predict(x_test)))\n",
    "\n",
    "model = ols('Price ~ Mileage',x_train)\n",
    "result = model.fit()\n",
    "print(result.summary())\n",
    "print(\"\\nMean squared error is %f \\n\" %mean_squared_error(x_test['Price'], result.predict(x_test)))"
   ]
  },
  {
   "cell_type": "markdown",
   "id": "7182613c",
   "metadata": {},
   "source": [
    "We begin with simple linear regression. Correlation of variables (multicollinearity) can be a concern with linear regression, but this does not seem to be a problem with this dataset, judging by the correlation matrix above. However, it is worth noting that several of the models trained in this section reported a high condition number, which could indicate multicollinearity.\n",
    "\n",
    "Note: for all p-value comparisons in this section I will be assuming $\\alpha=0.05$.\n",
    "\n",
    "Above are two simple linear regression models to predict `Price`: one with `Year` as the only predictor, and one with `Mileage` as the only predictor. These models were trained on a subset of the data consisting of 80% of the total sample, chosen at random. In both models, the predictor has a very low p-value, indicating that both are significant. However, note the low adjusted $R^2$ values, $0.160$ and $0.177$. The mean squared errors (MSE) were obtained by testing using the remaining 20% of the set and are $154,000,000$ and $151,000,000$. Below is the output of a model predicting `Price` with both `Year` and `Mileage` in multiple linear regression:"
   ]
  },
  {
   "cell_type": "code",
   "execution_count": 13,
   "id": "b502ac58",
   "metadata": {},
   "outputs": [
    {
     "name": "stdout",
     "output_type": "stream",
     "text": [
      "                            OLS Regression Results                            \n",
      "==============================================================================\n",
      "Dep. Variable:                  Price   R-squared:                       0.196\n",
      "Model:                            OLS   Adj. R-squared:                  0.196\n",
      "Method:                 Least Squares   F-statistic:                 8.318e+04\n",
      "Date:                Mon, 25 Apr 2022   Prob (F-statistic):               0.00\n",
      "Time:                        10:53:06   Log-Likelihood:            -7.3676e+06\n",
      "No. Observations:              680405   AIC:                         1.474e+07\n",
      "Df Residuals:                  680402   BIC:                         1.474e+07\n",
      "Df Model:                           2                                         \n",
      "Covariance Type:            nonrobust                                         \n",
      "==============================================================================\n",
      "                 coef    std err          t      P>|t|      [0.025      0.975]\n",
      "------------------------------------------------------------------------------\n",
      "Intercept  -1.578e+06   1.27e+04   -124.443      0.000    -1.6e+06   -1.55e+06\n",
      "Year         796.9652      6.287    126.756      0.000     784.642     809.288\n",
      "Mileage       -0.1026      0.001   -175.120      0.000      -0.104      -0.101\n",
      "==============================================================================\n",
      "Omnibus:                   869065.091   Durbin-Watson:                   1.999\n",
      "Prob(Omnibus):                  0.000   Jarque-Bera (JB):        463761064.515\n",
      "Skew:                           6.672   Prob(JB):                         0.00\n",
      "Kurtosis:                     130.201   Cond. No.                     5.33e+07\n",
      "==============================================================================\n",
      "\n",
      "Notes:\n",
      "[1] Standard Errors assume that the covariance matrix of the errors is correctly specified.\n",
      "[2] The condition number is large, 5.33e+07. This might indicate that there are\n",
      "strong multicollinearity or other numerical problems.\n",
      "\n",
      "Mean squared error is 147185546.196069 \n",
      "\n"
     ]
    }
   ],
   "source": [
    "model = ols('Price ~ Year + Mileage',x_train)\n",
    "result = model.fit()\n",
    "print(result.summary())\n",
    "print(\"\\nMean squared error is %f \\n\" %mean_squared_error(x_test['Price'], result.predict(x_test)))"
   ]
  },
  {
   "cell_type": "markdown",
   "id": "469ba595",
   "metadata": {},
   "source": [
    "Again, both predictors have a very low p-value and are significant, the adjusted $R^2$ value has increased and is now $0.196$, and the MSE has fallen to $147,000,000$. Below is the same model, but now with an interaction term for `Year` and `Mileage`."
   ]
  },
  {
   "cell_type": "code",
   "execution_count": 14,
   "id": "185d23ec",
   "metadata": {},
   "outputs": [
    {
     "name": "stdout",
     "output_type": "stream",
     "text": [
      "                            OLS Regression Results                            \n",
      "==============================================================================\n",
      "Dep. Variable:                  Price   R-squared:                       0.203\n",
      "Model:                            OLS   Adj. R-squared:                  0.203\n",
      "Method:                 Least Squares   F-statistic:                 5.775e+04\n",
      "Date:                Mon, 25 Apr 2022   Prob (F-statistic):               0.00\n",
      "Time:                        10:53:06   Log-Likelihood:            -7.3648e+06\n",
      "No. Observations:              680405   AIC:                         1.473e+07\n",
      "Df Residuals:                  680401   BIC:                         1.473e+07\n",
      "Df Model:                           3                                         \n",
      "Covariance Type:            nonrobust                                         \n",
      "================================================================================\n",
      "                   coef    std err          t      P>|t|      [0.025      0.975]\n",
      "--------------------------------------------------------------------------------\n",
      "Intercept    -2.615e+06   1.88e+04   -138.963      0.000   -2.65e+06   -2.58e+06\n",
      "Year          1312.1387      9.340    140.485      0.000    1293.832    1330.445\n",
      "Mileage         15.6454      0.212     73.856      0.000      15.230      16.061\n",
      "Year:Mileage    -0.0078      0.000    -74.341      0.000      -0.008      -0.008\n",
      "==============================================================================\n",
      "Omnibus:                   871838.500   Durbin-Watson:                   1.999\n",
      "Prob(Omnibus):                  0.000   Jarque-Bera (JB):        473141347.256\n",
      "Skew:                           6.708   Prob(JB):                         0.00\n",
      "Kurtosis:                     131.488   Cond. No.                     1.60e+11\n",
      "==============================================================================\n",
      "\n",
      "Notes:\n",
      "[1] Standard Errors assume that the covariance matrix of the errors is correctly specified.\n",
      "[2] The condition number is large, 1.6e+11. This might indicate that there are\n",
      "strong multicollinearity or other numerical problems.\n",
      "\n",
      "Mean squared error is 145950145.294382 \n",
      "\n"
     ]
    }
   ],
   "source": [
    "model = ols('Price ~ Year + Mileage + Year:Mileage',x_train)\n",
    "result = model.fit()\n",
    "print(result.summary())\n",
    "print(\"\\nMean squared error is %f \\n\" %mean_squared_error(x_test['Price'], result.predict(x_test)))"
   ]
  },
  {
   "cell_type": "markdown",
   "id": "cccfb302",
   "metadata": {},
   "source": [
    "Again, all predictors appear to be significant, the adjusted $R^2$ has increased further to $0.203$, and the MSE has also come down slightly to $146,000,000$. This suggests that there is a clear interaction between `Year` and `Mileage` and the interaction term should be included, although its effect appears to be small, since the coefficient associated with the term is only $-0.0078$."
   ]
  },
  {
   "cell_type": "code",
   "execution_count": 15,
   "id": "7058eb76",
   "metadata": {},
   "outputs": [
    {
     "name": "stdout",
     "output_type": "stream",
     "text": [
      "                            OLS Regression Results                            \n",
      "==============================================================================\n",
      "Dep. Variable:                  Price   R-squared:                       0.009\n",
      "Model:                            OLS   Adj. R-squared:                  0.009\n",
      "Method:                 Least Squares   F-statistic:                     123.3\n",
      "Date:                Mon, 25 Apr 2022   Prob (F-statistic):               0.00\n",
      "Time:                        10:53:09   Log-Likelihood:            -7.4389e+06\n",
      "No. Observations:              680405   AIC:                         1.488e+07\n",
      "Df Residuals:                  680354   BIC:                         1.488e+07\n",
      "Df Model:                          50                                         \n",
      "Covariance Type:            nonrobust                                         \n",
      "===============================================================================\n",
      "                  coef    std err          t      P>|t|      [0.025      0.975]\n",
      "-------------------------------------------------------------------------------\n",
      "Intercept    2.136e+04    367.716     58.083      0.000    2.06e+04    2.21e+04\n",
      "State[T.AL]  1045.4715    390.453      2.678      0.007     280.196    1810.747\n",
      "State[T.AR]  1882.4482    410.266      4.588      0.000    1078.340    2686.557\n",
      "State[T.AZ] -1106.7452    381.461     -2.901      0.004   -1854.397    -359.093\n",
      "State[T.CA]   223.5959    371.575      0.602      0.547    -504.679     951.870\n",
      "State[T.CO]    18.0248    381.077      0.047      0.962    -728.873     764.923\n",
      "State[T.CT] -2487.8141    395.486     -6.291      0.000   -3262.954   -1712.674\n",
      "State[T.DC] -1.058e+04   3215.038     -3.289      0.001   -1.69e+04   -4273.945\n",
      "State[T.DE]   484.6388    479.699      1.010      0.312    -455.555    1424.832\n",
      "State[T.FL]  -371.4617    371.991     -0.999      0.318   -1100.552     357.628\n",
      "State[T.GA]   139.9067    375.569      0.373      0.710    -596.195     876.009\n",
      "State[T.HI] -4577.3108    461.757     -9.913      0.000   -5482.340   -3672.281\n",
      "State[T.IA]    78.7349    426.809      0.184      0.854    -757.796     915.266\n",
      "State[T.ID]  -753.4904    447.997     -1.682      0.093   -1631.550     124.569\n",
      "State[T.IL]    -6.7715    375.700     -0.018      0.986    -743.132     729.589\n",
      "State[T.IN] -1334.3794    386.248     -3.455      0.001   -2091.413    -577.346\n",
      "State[T.KS]  -565.0741    405.127     -1.395      0.163   -1359.110     228.961\n",
      "State[T.KY]  -978.7505    390.058     -2.509      0.012   -1743.252    -214.249\n",
      "State[T.LA]  1748.7334    402.823      4.341      0.000     959.213    2538.254\n",
      "State[T.MA]   352.7392    384.617      0.917      0.359    -401.097    1106.575\n",
      "State[T.MD]  -438.3698    385.065     -1.138      0.255   -1193.085     316.346\n",
      "State[T.ME]  1003.9987    503.820      1.993      0.046      16.528    1991.470\n",
      "State[T.MI] -2127.1993    396.866     -5.360      0.000   -2905.043   -1349.355\n",
      "State[T.MN]  -292.1462    395.244     -0.739      0.460   -1066.811     482.519\n",
      "State[T.MO]   -81.7335    386.636     -0.211      0.833    -839.527     676.060\n",
      "State[T.MS]  2582.8078    414.612      6.229      0.000    1770.181    3395.434\n",
      "State[T.MT]  3344.2728    501.724      6.666      0.000    2360.910    4327.636\n",
      "State[T.NC]   -19.5987    375.934     -0.052      0.958    -756.417     717.220\n",
      "State[T.ND] -1333.1782    587.631     -2.269      0.023   -2484.915    -181.441\n",
      "State[T.NE]   805.9847    426.501      1.890      0.059     -29.943    1641.913\n",
      "State[T.NH]  -244.7228    419.151     -0.584      0.559   -1066.245     576.800\n",
      "State[T.NJ]   371.0035    378.767      0.980      0.327    -371.367    1113.374\n",
      "State[T.NM]  1776.2435    428.711      4.143      0.000     935.985    2616.502\n",
      "State[T.NV]  -404.1717    410.449     -0.985      0.325   -1208.638     400.295\n",
      "State[T.NY]  1045.7196    378.674      2.762      0.006     303.530    1787.909\n",
      "State[T.OH] -2567.8965    380.946     -6.741      0.000   -3314.539   -1821.254\n",
      "State[T.OK]   452.0375    399.200      1.132      0.257    -330.381    1234.456\n",
      "State[T.OR]   662.7502    396.679      1.671      0.095    -114.729    1440.229\n",
      "State[T.PA]    85.5501    378.651      0.226      0.821    -656.593     827.693\n",
      "State[T.RI]  1209.8861    507.573      2.384      0.017     215.059    2204.713\n",
      "State[T.SC]  -439.5203    398.039     -1.104      0.270   -1219.664     340.624\n",
      "State[T.SD]  2887.8132    562.885      5.130      0.000    1784.576    3991.050\n",
      "State[T.TN]  -126.4818    383.652     -0.330      0.742    -878.427     625.463\n",
      "State[T.TX]  2376.3858    370.996      6.405      0.000    1649.245    3103.526\n",
      "State[T.UT]   274.9654    396.288      0.694      0.488    -501.746    1051.677\n",
      "State[T.VA] -2440.0626    376.490     -6.481      0.000   -3177.971   -1702.155\n",
      "State[T.VT] -2784.8925    585.806     -4.754      0.000   -3933.053   -1636.732\n",
      "State[T.WA]   761.0367    380.954      1.998      0.046      14.379    1507.694\n",
      "State[T.WI]  -594.7375    394.513     -1.508      0.132   -1367.970     178.495\n",
      "State[T.WV]  1692.5600    534.996      3.164      0.002     643.985    2741.135\n",
      "State[T.WY]  4383.5131    719.557      6.092      0.000    2973.205    5793.822\n",
      "==============================================================================\n",
      "Omnibus:                   766239.213   Durbin-Watson:                   1.997\n",
      "Prob(Omnibus):                  0.000   Jarque-Bera (JB):        236089674.817\n",
      "Skew:                           5.407   Prob(JB):                         0.00\n",
      "Kurtosis:                      93.613   Cond. No.                         203.\n",
      "==============================================================================\n",
      "\n",
      "Notes:\n",
      "[1] Standard Errors assume that the covariance matrix of the errors is correctly specified.\n",
      "\n",
      "Mean squared error is 182253289.029673 \n",
      "\n",
      "                            OLS Regression Results                            \n",
      "==============================================================================\n",
      "Dep. Variable:                  Price   R-squared:                       0.326\n",
      "Model:                            OLS   Adj. R-squared:                  0.325\n",
      "Method:                 Least Squares   F-statistic:                     5863.\n",
      "Date:                Mon, 25 Apr 2022   Prob (F-statistic):               0.00\n",
      "Time:                        10:53:12   Log-Likelihood:            -7.3080e+06\n",
      "No. Observations:              680405   AIC:                         1.462e+07\n",
      "Df Residuals:                  680348   BIC:                         1.462e+07\n",
      "Df Model:                          56                                         \n",
      "Covariance Type:            nonrobust                                         \n",
      "=========================================================================================\n",
      "                            coef    std err          t      P>|t|      [0.025      0.975]\n",
      "-----------------------------------------------------------------------------------------\n",
      "Intercept              5.856e+04   2987.767     19.600      0.000    5.27e+04    6.44e+04\n",
      "Make[T.Acura]         -3.539e+04   2990.139    -11.837      0.000   -4.13e+04   -2.95e+04\n",
      "Make[T.Alfa]          -7091.6116   3582.206     -1.980      0.048   -1.41e+04     -70.604\n",
      "Make[T.Aston]          4.044e+04   3165.915     12.774      0.000    3.42e+04    4.66e+04\n",
      "Make[T.Audi]          -2.966e+04   2989.836     -9.920      0.000   -3.55e+04   -2.38e+04\n",
      "Make[T.BMW]           -3.162e+04   2988.579    -10.579      0.000   -3.75e+04   -2.58e+04\n",
      "Make[T.Bentley]        4.222e+04   3059.035     13.801      0.000    3.62e+04    4.82e+04\n",
      "Make[T.Buick]         -3.949e+04   2989.856    -13.209      0.000   -4.54e+04   -3.36e+04\n",
      "Make[T.Cadillac]      -3.048e+04   2989.489    -10.194      0.000   -3.63e+04   -2.46e+04\n",
      "Make[T.Chevrolet]     -3.648e+04   2988.023    -12.208      0.000   -4.23e+04   -3.06e+04\n",
      "Make[T.Chrysler]      -4.277e+04   2989.359    -14.309      0.000   -4.86e+04   -3.69e+04\n",
      "Make[T.Dodge]         -4.038e+04   2988.526    -13.510      0.000   -4.62e+04   -3.45e+04\n",
      "Make[T.FIAT]          -4.647e+04   3002.521    -15.476      0.000   -5.24e+04   -4.06e+04\n",
      "Make[T.Ferrari]        1.427e+05   3060.271     46.635      0.000    1.37e+05    1.49e+05\n",
      "Make[T.Fisker]        -1.285e+04   4091.168     -3.141      0.002   -2.09e+04   -4832.649\n",
      "Make[T.Ford]          -3.715e+04   2988.004    -12.433      0.000    -4.3e+04   -3.13e+04\n",
      "Make[T.Freightliner]   -2.72e+04   4954.650     -5.489      0.000   -3.69e+04   -1.75e+04\n",
      "Make[T.GMC]           -3.005e+04   2988.669    -10.056      0.000   -3.59e+04   -2.42e+04\n",
      "Make[T.Genesis]       -1.442e+04   3165.915     -4.556      0.000   -2.06e+04   -8219.860\n",
      "Make[T.Geo]            7.437e-10   3.81e-11     19.495      0.000    6.69e-10    8.18e-10\n",
      "Make[T.HUMMER]        -3.938e+04   3015.821    -13.058      0.000   -4.53e+04   -3.35e+04\n",
      "Make[T.Honda]         -4.181e+04   2988.291    -13.993      0.000   -4.77e+04    -3.6e+04\n",
      "Make[T.Hyundai]       -4.416e+04   2988.499    -14.775      0.000      -5e+04   -3.83e+04\n",
      "Make[T.INFINITI]      -3.308e+04   2989.906    -11.063      0.000   -3.89e+04   -2.72e+04\n",
      "Make[T.Isuzu]         -5.374e+04   3312.931    -16.221      0.000   -6.02e+04   -4.72e+04\n",
      "Make[T.Jaguar]        -2.394e+04   2999.540     -7.981      0.000   -2.98e+04   -1.81e+04\n",
      "Make[T.Jeep]          -3.595e+04   2988.416    -12.031      0.000   -4.18e+04   -3.01e+04\n",
      "Make[T.Kia]           -4.296e+04   2988.683    -14.375      0.000   -4.88e+04   -3.71e+04\n",
      "Make[T.Lamborghini]    1.305e+05   3194.057     40.846      0.000    1.24e+05    1.37e+05\n",
      "Make[T.Land]          -1.784e+04   2994.115     -5.957      0.000   -2.37e+04    -1.2e+04\n",
      "Make[T.Lexus]         -3.225e+04   2989.046    -10.788      0.000   -3.81e+04   -2.64e+04\n",
      "Make[T.Lincoln]       -3.562e+04   2991.476    -11.906      0.000   -4.15e+04   -2.98e+04\n",
      "Make[T.Lotus]         -3472.5429   3535.173     -0.982      0.326   -1.04e+04    3456.282\n",
      "Make[T.MINI]          -4.201e+04   2993.746    -14.033      0.000   -4.79e+04   -3.61e+04\n",
      "Make[T.Maserati]      -8747.1169   3012.358     -2.904      0.004   -1.47e+04   -2842.994\n",
      "Make[T.Maybach]        2.871e+04   4776.275      6.011      0.000    1.93e+04    3.81e+04\n",
      "Make[T.Mazda]         -4.273e+04   2989.724    -14.291      0.000   -4.86e+04   -3.69e+04\n",
      "Make[T.McLaren]        1.663e+05   3449.976     48.192      0.000     1.6e+05    1.73e+05\n",
      "Make[T.Mercedes-Benz]  -2.69e+04   2988.757     -9.001      0.000   -3.28e+04    -2.1e+04\n",
      "Make[T.Mercury]       -5.152e+04   3011.848    -17.107      0.000   -5.74e+04   -4.56e+04\n",
      "Make[T.Mitsubishi]    -4.538e+04   2994.223    -15.154      0.000   -5.12e+04   -3.95e+04\n",
      "Make[T.Nissan]        -4.186e+04   2988.161    -14.009      0.000   -4.77e+04    -3.6e+04\n",
      "Make[T.Oldsmobile]     -5.48e+04   3204.772    -17.098      0.000   -6.11e+04   -4.85e+04\n",
      "Make[T.Plymouth]      -3.723e+04   3549.996    -10.487      0.000   -4.42e+04   -3.03e+04\n",
      "Make[T.Pontiac]       -5.091e+04   3002.449    -16.955      0.000   -5.68e+04    -4.5e+04\n",
      "Make[T.Porsche]        -245.9432   2994.146     -0.082      0.935   -6114.372    5622.485\n",
      "Make[T.Ram]           -2.755e+04   2989.092     -9.215      0.000   -3.34e+04   -2.17e+04\n",
      "Make[T.Rolls-Royce]    1.513e+05   3289.423     45.994      0.000    1.45e+05    1.58e+05\n",
      "Make[T.Saab]          -5.203e+04   3088.103    -16.849      0.000   -5.81e+04    -4.6e+04\n",
      "Make[T.Saturn]        -5.234e+04   3014.427    -17.364      0.000   -5.82e+04   -4.64e+04\n",
      "Make[T.Scion]         -4.634e+04   2996.270    -15.466      0.000   -5.22e+04   -4.05e+04\n",
      "Make[T.Subaru]        -3.898e+04   2989.366    -13.038      0.000   -4.48e+04   -3.31e+04\n",
      "Make[T.Suzuki]        -5.164e+04   3061.550    -16.869      0.000   -5.76e+04   -4.56e+04\n",
      "Make[T.Tesla]          4468.4637   3099.947      1.441      0.149   -1607.331    1.05e+04\n",
      "Make[T.Toyota]        -3.897e+04   2988.102    -13.042      0.000   -4.48e+04   -3.31e+04\n",
      "Make[T.Volkswagen]    -4.357e+04   2988.890    -14.578      0.000   -4.94e+04   -3.77e+04\n",
      "Make[T.Volvo]         -3.488e+04   2992.831    -11.655      0.000   -4.07e+04    -2.9e+04\n",
      "Make[T.smart]         -5.046e+04   3024.236    -16.684      0.000   -5.64e+04   -4.45e+04\n",
      "==============================================================================\n",
      "Omnibus:                   508477.402   Durbin-Watson:                   1.999\n",
      "Prob(Omnibus):                  0.000   Jarque-Bera (JB):         66732254.969\n",
      "Skew:                           2.797   Prob(JB):                         0.00\n",
      "Kurtosis:                      51.193   Cond. No.                     1.03e+16\n",
      "==============================================================================\n",
      "\n",
      "Notes:\n",
      "[1] Standard Errors assume that the covariance matrix of the errors is correctly specified.\n",
      "[2] The smallest eigenvalue is 6.79e-27. This might indicate that there are\n",
      "strong multicollinearity problems or that the design matrix is singular.\n",
      "\n",
      "Mean squared error is 125732767.048538 \n",
      "\n"
     ]
    }
   ],
   "source": [
    "model = ols('Price ~ State',x_train)\n",
    "result = model.fit()\n",
    "print(result.summary())\n",
    "print(\"\\nMean squared error is %f \\n\" %mean_squared_error(x_test['Price'], result.predict(x_test)))\n",
    "\n",
    "model = ols('Price ~ Make',x_train)\n",
    "result = model.fit()\n",
    "print(result.summary())\n",
    "print(\"\\nMean squared error is %f \\n\" %mean_squared_error(x_test['Price'], result.predict(x_test)))"
   ]
  },
  {
   "cell_type": "markdown",
   "id": "9b330fd1",
   "metadata": {},
   "source": [
    "Above are two models predicting `Price` from the categorical variables `State` and `Make`, respectively. The other categorical variables had too many levels for a regression model to be feasible. In the first model using `State`, some of the terms are significant and others are not, with a very low adjusted $R^2$ of $0.009$ and a larger MSE at $182,000,000$. In the second model using `Make`, almost all of the terms are significant, the adjusted $R^2$ is the highest we have seen so far, $0.325$, and the MSE is down to $126,000,000$."
   ]
  },
  {
   "cell_type": "code",
   "execution_count": 16,
   "id": "276347f4",
   "metadata": {},
   "outputs": [
    {
     "name": "stdout",
     "output_type": "stream",
     "text": [
      "                            OLS Regression Results                            \n",
      "==============================================================================\n",
      "Dep. Variable:                  Price   R-squared:                       0.531\n",
      "Model:                            OLS   Adj. R-squared:                  0.531\n",
      "Method:                 Least Squares   F-statistic:                 1.303e+04\n",
      "Date:                Mon, 25 Apr 2022   Prob (F-statistic):               0.00\n",
      "Time:                        10:53:16   Log-Likelihood:            -7.1847e+06\n",
      "No. Observations:              680405   AIC:                         1.437e+07\n",
      "Df Residuals:                  680345   BIC:                         1.437e+07\n",
      "Df Model:                          59                                         \n",
      "Covariance Type:            nonrobust                                         \n",
      "=========================================================================================\n",
      "                            coef    std err          t      P>|t|      [0.025      0.975]\n",
      "-----------------------------------------------------------------------------------------\n",
      "Intercept             -3.323e+06   1.48e+04   -225.006      0.000   -3.35e+06   -3.29e+06\n",
      "Make[T.Acura]         -5.311e+04   2495.292    -21.285      0.000    -5.8e+04   -4.82e+04\n",
      "Make[T.Alfa]          -3.449e+04   2989.268    -11.538      0.000   -4.04e+04   -2.86e+04\n",
      "Make[T.Aston]          2.267e+04   2641.526      8.581      0.000    1.75e+04    2.78e+04\n",
      "Make[T.Audi]          -4.827e+04   2495.037    -19.346      0.000   -5.32e+04   -4.34e+04\n",
      "Make[T.BMW]            -4.99e+04   2493.958    -20.008      0.000   -5.48e+04    -4.5e+04\n",
      "Make[T.Bentley]        2.634e+04   2552.346     10.319      0.000    2.13e+04    3.13e+04\n",
      "Make[T.Buick]         -5.808e+04   2495.056    -23.280      0.000    -6.3e+04   -5.32e+04\n",
      "Make[T.Cadillac]      -4.861e+04   2494.724    -19.484      0.000   -5.35e+04   -4.37e+04\n",
      "Make[T.Chevrolet]     -5.496e+04   2493.571    -22.041      0.000   -5.98e+04   -5.01e+04\n",
      "Make[T.Chrysler]      -6.086e+04   2494.701    -24.394      0.000   -6.57e+04    -5.6e+04\n",
      "Make[T.Dodge]         -5.784e+04   2493.964    -23.192      0.000   -6.27e+04    -5.3e+04\n",
      "Make[T.FIAT]          -6.738e+04   2505.650    -26.891      0.000   -7.23e+04   -6.25e+04\n",
      "Make[T.Ferrari]        1.241e+05   2553.408     48.594      0.000    1.19e+05    1.29e+05\n",
      "Make[T.Fisker]          -3.1e+04   3413.372     -9.081      0.000   -3.77e+04   -2.43e+04\n",
      "Make[T.Ford]          -5.513e+04   2493.548    -22.111      0.000      -6e+04   -5.02e+04\n",
      "Make[T.Freightliner]   -4.89e+04   4133.815    -11.830      0.000    -5.7e+04   -4.08e+04\n",
      "Make[T.GMC]           -4.803e+04   2494.122    -19.259      0.000   -5.29e+04   -4.31e+04\n",
      "Make[T.Genesis]       -4.221e+04   2642.152    -15.977      0.000   -4.74e+04    -3.7e+04\n",
      "Make[T.Geo]            6.744e-09    4.3e-10     15.702      0.000     5.9e-09    7.59e-09\n",
      "Make[T.HUMMER]        -4.645e+04   2516.428    -18.458      0.000   -5.14e+04   -4.15e+04\n",
      "Make[T.Honda]         -5.924e+04   2493.738    -23.754      0.000   -6.41e+04   -5.43e+04\n",
      "Make[T.Hyundai]       -6.349e+04   2494.023    -25.458      0.000   -6.84e+04   -5.86e+04\n",
      "Make[T.INFINITI]      -5.108e+04   2495.078    -20.471      0.000    -5.6e+04   -4.62e+04\n",
      "Make[T.Isuzu]         -5.786e+04   2764.083    -20.932      0.000   -6.33e+04   -5.24e+04\n",
      "Make[T.Jaguar]        -4.242e+04   2502.998    -16.948      0.000   -4.73e+04   -3.75e+04\n",
      "Make[T.Jeep]          -5.506e+04   2493.903    -22.079      0.000      -6e+04   -5.02e+04\n",
      "Make[T.Kia]           -6.334e+04   2494.204    -25.394      0.000   -6.82e+04   -5.85e+04\n",
      "Make[T.Lamborghini]    1.125e+05   2664.985     42.197      0.000    1.07e+05    1.18e+05\n",
      "Make[T.Land]           -3.57e+04   2498.585    -14.287      0.000   -4.06e+04   -3.08e+04\n",
      "Make[T.Lexus]         -4.931e+04   2494.308    -19.770      0.000   -5.42e+04   -4.44e+04\n",
      "Make[T.Lincoln]       -5.384e+04   2496.388    -21.567      0.000   -5.87e+04   -4.89e+04\n",
      "Make[T.Lotus]         -1.927e+04   2949.450     -6.532      0.000    -2.5e+04   -1.35e+04\n",
      "Make[T.MINI]          -6.055e+04   2498.239    -24.237      0.000   -6.54e+04   -5.57e+04\n",
      "Make[T.Maserati]      -2.921e+04   2513.697    -11.622      0.000   -3.41e+04   -2.43e+04\n",
      "Make[T.Maybach]        1.854e+04   3984.673      4.652      0.000    1.07e+04    2.63e+04\n",
      "Make[T.Mazda]         -6.144e+04   2494.968    -24.624      0.000   -6.63e+04   -5.65e+04\n",
      "Make[T.McLaren]        1.404e+05   2878.873     48.782      0.000    1.35e+05    1.46e+05\n",
      "Make[T.Mercedes-Benz] -4.508e+04   2494.084    -18.076      0.000      -5e+04   -4.02e+04\n",
      "Make[T.Mercury]       -5.907e+04   2513.055    -23.506      0.000    -6.4e+04   -5.41e+04\n",
      "Make[T.Mitsubishi]    -6.337e+04   2498.694    -25.363      0.000   -6.83e+04   -5.85e+04\n",
      "Make[T.Nissan]        -6.148e+04   2493.712    -24.655      0.000   -6.64e+04   -5.66e+04\n",
      "Make[T.Oldsmobile]     -5.73e+04   2673.871    -21.430      0.000   -6.25e+04   -5.21e+04\n",
      "Make[T.Plymouth]      -3.746e+04   2961.579    -12.647      0.000   -4.33e+04   -3.17e+04\n",
      "Make[T.Pontiac]        -5.82e+04   2505.168    -23.230      0.000   -6.31e+04   -5.33e+04\n",
      "Make[T.Porsche]       -1.788e+04   2498.416     -7.158      0.000   -2.28e+04    -1.3e+04\n",
      "Make[T.Ram]           -4.846e+04   2494.558    -19.425      0.000   -5.33e+04   -4.36e+04\n",
      "Make[T.Rolls-Royce]    1.312e+05   2744.677     47.795      0.000    1.26e+05    1.37e+05\n",
      "Make[T.Saab]          -5.936e+04   2576.702    -23.036      0.000   -6.44e+04   -5.43e+04\n",
      "Make[T.Saturn]        -5.951e+04   2515.222    -23.659      0.000   -6.44e+04   -5.46e+04\n",
      "Make[T.Scion]         -6.347e+04   2500.378    -25.385      0.000   -6.84e+04   -5.86e+04\n",
      "Make[T.Subaru]        -5.829e+04   2494.706    -23.364      0.000   -6.32e+04   -5.34e+04\n",
      "Make[T.Suzuki]        -6.129e+04   2554.598    -23.991      0.000   -6.63e+04   -5.63e+04\n",
      "Make[T.Tesla]         -1.648e+04   2586.822     -6.369      0.000   -2.15e+04   -1.14e+04\n",
      "Make[T.Toyota]        -5.696e+04   2493.616    -22.844      0.000   -6.19e+04   -5.21e+04\n",
      "Make[T.Volkswagen]    -6.285e+04   2494.266    -25.197      0.000   -6.77e+04    -5.8e+04\n",
      "Make[T.Volvo]         -5.308e+04   2497.544    -21.251      0.000    -5.8e+04   -4.82e+04\n",
      "Make[T.smart]         -7.167e+04   2523.623    -28.400      0.000   -7.66e+04   -6.67e+04\n",
      "Year                   1690.7301      7.249    233.239      0.000    1676.522    1704.938\n",
      "Mileage                  16.2379      0.163     99.512      0.000      15.918      16.558\n",
      "Year:Mileage             -0.0081   8.11e-05    -99.962      0.000      -0.008      -0.008\n",
      "==============================================================================\n",
      "Omnibus:                   676934.981   Durbin-Watson:                   2.000\n",
      "Prob(Omnibus):                  0.000   Jarque-Bera (JB):        246617481.135\n",
      "Skew:                           4.226   Prob(JB):                         0.00\n",
      "Kurtosis:                      95.885   Cond. No.                     1.24e+16\n",
      "==============================================================================\n",
      "\n",
      "Notes:\n",
      "[1] Standard Errors assume that the covariance matrix of the errors is correctly specified.\n",
      "[2] The smallest eigenvalue is 6.94e-11. This might indicate that there are\n",
      "strong multicollinearity problems or that the design matrix is singular.\n",
      "\n",
      "Mean squared error is 87441150.339722 \n",
      "\n"
     ]
    }
   ],
   "source": [
    "model = ols('Price ~ Year + Mileage + Year:Mileage + Make',x_train)\n",
    "result = model.fit()\n",
    "print(result.summary())\n",
    "print(\"\\nMean squared error is %f \\n\" %mean_squared_error(x_test['Price'], result.predict(x_test)))"
   ]
  },
  {
   "cell_type": "markdown",
   "id": "309e11bb",
   "metadata": {},
   "source": [
    "This last model is another multiple linear regression model, this time combining the continuous numerical variables `Year` and `Mileage` along with their interaction terms with the categorical variable `Make` to predict `Price`. All terms are signficiant according to their respective p-values, the adjusted $R^2$ is much higher at $0.531$, and the MSE has reached its lowest value yet at $87,400,000$. This seems to be the best model as far as linear regression can take us, since adding other predictors is either not feasible or would result in insignificant terms and only a marginal increase to the adjusted $R^2$."
   ]
  },
  {
   "cell_type": "code",
   "execution_count": 30,
   "id": "58c0df67",
   "metadata": {},
   "outputs": [],
   "source": [
    "from sklearn.ensemble import GradientBoostingRegressor\n",
    "from sklearn.model_selection import GridSearchCV\n",
    "\n",
    "#convert train and test set to arrays\n",
    "X = x_train.drop(['Price', 'City', 'State', 'Vin', 'Make', 'Model'], axis=1, inplace=False)\n",
    "X.head()\n",
    "y = x_train['Price']\n",
    "X = np.array(X)\n",
    "y = np.array(y)\n",
    "\n",
    "X_test = x_test.drop(['Price', 'City', 'State', 'Vin', 'Make', 'Model'], axis=1, inplace=False)\n",
    "y_test = x_test['Price']\n",
    "X_test = np.array(X_test)\n",
    "y_test = np.array(y_test)\n",
    "\n",
    "\n",
    "#try different values of hyperparameters max_depth and learning_rate to find best values according to R^2\n",
    "maxr2 = [-1,-1,-1]\n",
    "\n",
    "for i in range(1,6):\n",
    "    for j in range(1,16):\n",
    "        gbr = GradientBoostingRegressor(max_depth=i, learning_rate=0.04+j*0.01)\n",
    "        gbr.fit(X,y)\n",
    "\n",
    "#params = {'max_depth':range(1,3), 'learning_rate':np.logspace(start=0, stop=1, base=2)}\n",
    "#grid=GridSearchCV(gbr, params) # ToDo: replace it to proper GridSearchCV object and run the grid search with cross validation\n",
    "#grid.fit(X,y)\n",
    "\n",
    "        r2 = gbr.score(X_test, y_test)\n",
    "        if r2 >= maxr2[0]:\n",
    "            maxr2[0] = r2\n",
    "            maxr2[1] = i\n",
    "            maxr2[2] = 0.04+j*0.01"
   ]
  },
  {
   "cell_type": "code",
   "execution_count": 29,
   "id": "1450cdd9",
   "metadata": {},
   "outputs": [
    {
     "name": "stdout",
     "output_type": "stream",
     "text": [
      "Maximum R2 was 0.243855. This was obtained with max_depth=4 and learning_rate=0.100000.\n"
     ]
    }
   ],
   "source": [
    "print(\"Maximum R2 was %f. This was obtained with max_depth=%d and learning_rate=%f.\" % (maxr2[0], maxr2[1], maxr2[2]))"
   ]
  },
  {
   "cell_type": "markdown",
   "id": "07f25b85",
   "metadata": {},
   "source": [
    "Above I used gradient boosting regression to train another type of model to predict `Price` from the other features. I tried a range of values for the hyperparameters max_depth and learning_rate, and chose the combination of parameters that yielded the highest $R^2$ value. This was $0.244$ which occurred when max_depth was $4$ and learning rate was $0.1$."
   ]
  },
  {
   "cell_type": "markdown",
   "id": "b6f817b8",
   "metadata": {},
   "source": [
    "## Summary and conclusions"
   ]
  },
  {
   "cell_type": "markdown",
   "id": "2fe71276",
   "metadata": {},
   "source": [
    "As I had expected, `Year` was a significant feature in determining `Price`, however `Make` ultimately proved better able to explain the total variability in `Price`.\n",
    "\n",
    "In this dataset there were a few issues that made it more difficult than expected to achieve my goals, most significantly the fact that several of the variables could not be used for linear regression. If I were to do this project again, I would choose a dataset with features that were better suited for my purposes.\n",
    "\n",
    "Other techniques were still viable, such as gradient boosting. I was able to apply my knowledge of hyperparameter tuning from class to determine the best values for the learning rate and maximum depth using gradient boosting. Ultimately, however, this model proved to be inferior, with a much lower $R^2$ value than the multiple linear regression model I settled on earlier."
   ]
  },
  {
   "cell_type": "markdown",
   "id": "d622926b",
   "metadata": {},
   "source": [
    "**References**\n",
    "\n",
    "HariKrishnaReddyB (2022). *Used car price predictions* [Data set]. Kaggle. https://www.kaggle.com/datasets/harikrishnareddyb/used-car-price-predictions?resource=download"
   ]
  }
 ],
 "metadata": {
  "kernelspec": {
   "display_name": "Python 3",
   "language": "python",
   "name": "python3"
  },
  "language_info": {
   "codemirror_mode": {
    "name": "ipython",
    "version": 3
   },
   "file_extension": ".py",
   "mimetype": "text/x-python",
   "name": "python",
   "nbconvert_exporter": "python",
   "pygments_lexer": "ipython3",
   "version": "3.8.8"
  }
 },
 "nbformat": 4,
 "nbformat_minor": 5
}
